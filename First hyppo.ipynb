{
 "cells": [
  {
   "cell_type": "code",
   "execution_count": null,
   "id": "1812606a",
   "metadata": {},
   "outputs": [],
   "source": [
    "import pandas as pd\n",
    "import seaborn as sns\n",
    "import matplotlib.pyplot as plt\n",
    "from datetime import datetime\n",
    "import numpy as np\n",
    "import plotly.express as px\n",
    "import scipy\n",
    "from scipy import stats"
   ]
  },
  {
   "cell_type": "code",
   "execution_count": null,
   "id": "02746758",
   "metadata": {},
   "outputs": [],
   "source": [
    "data = pd.read_excel('dataset.xlsx')\n",
    "data = data.drop('активация_кэшбэка_аренда_авто', axis=1).drop('кэшбэк_аренда_авто', axis=1).drop('оборот_аренда_авто', axis=1)"
   ]
  },
  {
   "cell_type": "code",
   "execution_count": null,
   "id": "e8be5e5a",
   "metadata": {},
   "outputs": [],
   "source": [
    "data['месяц_покупок'] = data['месяц_покупок'].astype(str)\n",
    "for i in range(4, 10):\n",
    "    d = datetime.strptime(f'2023-0{i}-01', \"%Y-%m-%d\")\n",
    "    data['месяц_покупок'] = data['месяц_покупок'].replace(f'2023-0{i}-01', d.strftime(\"%B\"))\n",
    "data"
   ]
  },
  {
   "cell_type": "code",
   "execution_count": null,
   "id": "9c458a90",
   "metadata": {},
   "outputs": [],
   "source": [
    "categories = 'аптеки рестораны одежда_и_обувь автоуслуги супермаркеты такси красота развлечения жд_билеты образование дом_и_ремонт спорттовары животные цветы фастфуд каршеринг'.split()\n",
    "turnover = []\n",
    "cashback_active = []\n",
    "cashback = []\n",
    "for i in categories:\n",
    "    turnover.append('оборот_' + i)\n",
    "    cashback_active.append('активация_кэшбэка_' + i)\n",
    "    cashback.append('кэшбэк_' + i)"
   ]
  },
  {
   "cell_type": "code",
   "execution_count": null,
   "id": "64d1154b",
   "metadata": {},
   "outputs": [],
   "source": [
    "data"
   ]
  },
  {
   "cell_type": "markdown",
   "id": "f71ffda8",
   "metadata": {},
   "source": [
    "# 1 гипотеза v1.0"
   ]
  },
  {
   "cell_type": "code",
   "execution_count": null,
   "id": "9ba951d0",
   "metadata": {},
   "outputs": [],
   "source": [
    "mean_turnover = data.groupby('ключ_клиента', as_index=False).aggregate({i: 'mean' for i in turnover})\n",
    "mean_turnover = mean_turnover.fillna(0)"
   ]
  },
  {
   "cell_type": "code",
   "execution_count": null,
   "id": "c44b5467",
   "metadata": {},
   "outputs": [],
   "source": [
    "mean_turnover"
   ]
  },
  {
   "cell_type": "code",
   "execution_count": null,
   "id": "ae62635f",
   "metadata": {},
   "outputs": [],
   "source": [
    "cashback_table = data[['ключ_клиента'] + cashback_active].fillna(0).astype(int).to_numpy()"
   ]
  },
  {
   "cell_type": "code",
   "execution_count": null,
   "id": "6a99ba59",
   "metadata": {},
   "outputs": [],
   "source": [
    "turnover_table = data[turnover].fillna(0).astype(int).to_numpy()\n",
    "turnover_table = np.hstack([np.ones(len(turnover_table), dtype=int).reshape((len(turnover_table), 1)), turnover_table])"
   ]
  },
  {
   "cell_type": "code",
   "execution_count": null,
   "id": "ed7d5c89",
   "metadata": {},
   "outputs": [],
   "source": [
    "columns = ['ключ_клиента']+turnover\n",
    "spending_with_cashback = turnover_table*cashback_table\n",
    "spending_with_cashback = {columns[i]: spending_with_cashback.T[i] for i in range(len(columns))}\n",
    "spending_with_cashback = pd.DataFrame(data=spending_with_cashback)"
   ]
  },
  {
   "cell_type": "code",
   "execution_count": null,
   "id": "430d140b",
   "metadata": {},
   "outputs": [],
   "source": [
    "s = []\n",
    "for row in spending_with_cashback.iloc:\n",
    "    person_mean = mean_turnover[mean_turnover['ключ_клиента'] == row['ключ_клиента']].to_numpy()[0][1:]\n",
    "    row = row.to_numpy()[1:]\n",
    "    k = []\n",
    "    for i in range(len(row)):\n",
    "        if row[i] != 0:\n",
    "            k.append(row[i] - person_mean[i])\n",
    "    s = s + k"
   ]
  },
  {
   "cell_type": "code",
   "execution_count": null,
   "id": "b7379585",
   "metadata": {},
   "outputs": [],
   "source": [
    "s = list(filter(lambda i: i != 0,s))"
   ]
  },
  {
   "cell_type": "code",
   "execution_count": null,
   "id": "de4fa053",
   "metadata": {},
   "outputs": [],
   "source": [
    "np.array(s).mean()"
   ]
  },
  {
   "cell_type": "markdown",
   "id": "a54cae67",
   "metadata": {},
   "source": [
    "# 1 гипотеза v2.0"
   ]
  },
  {
   "cell_type": "code",
   "execution_count": null,
   "id": "3589f1e3",
   "metadata": {},
   "outputs": [],
   "source": [
    "# Полность данных по обороту, где желтый - пропуски(NaN), синий - наличие данных (не NaN)\n",
    "colours = ['#000099', '#ffff00']\n",
    "plt.figure(figsize=(10,10), dpi=200)\n",
    "sns.heatmap(data[turnover].isnull(), cmap=sns.color_palette(colours))"
   ]
  },
  {
   "cell_type": "code",
   "execution_count": null,
   "id": "44c29eca",
   "metadata": {},
   "outputs": [],
   "source": [
    "def clean_data(X):\n",
    "    X = X[~np.isnan(X)]\n",
    "    mu = X.mean()\n",
    "    om = sum((X-mu)**2) / len(X)\n",
    "    sigma = om ** 0.5\n",
    "    N = 3\n",
    "    l, r = int(mu - N * sigma), int(mu + N * sigma)\n",
    "    X0 = X[(X > l) & (X < r)]\n",
    "    return X0, len(X0) / len(X)\n",
    "\n",
    "def clean_cat(turnover_cat_name, active_cat_name):\n",
    "    df_cat = data[data[turnover_cat_name].isna() == False][[turnover_cat_name, active_cat_name]]\n",
    "    df_cat[turnover_cat_name] = df_cat[turnover_cat_name] ** 0.5\n",
    "    mu = df_cat[turnover_cat_name].mean()\n",
    "    sigma = (sum((df_cat[turnover_cat_name] - mu) ** 2) / len(df_cat)) ** 0.5\n",
    "    N = 3\n",
    "    l, r = int(mu - N * sigma), int(mu + N * sigma)\n",
    "    df_cat = df_cat[(df_cat[turnover_cat_name] >= l) & (df_cat[turnover_cat_name] <= r)]\n",
    "    return df_cat"
   ]
  },
  {
   "cell_type": "code",
   "execution_count": null,
   "id": "e4829e7b",
   "metadata": {},
   "outputs": [],
   "source": [
    "# Дисперсия в предобработтанных данных\n",
    "om = lambda i: sum((i - i.mean()) ** 2) / len(i)\n",
    "print('категория\\tактивный\\tнеактивный')\n",
    "for cat in categories:\n",
    "    turnover_cat_name = 'оборот_' + cat\n",
    "    active_cat_name = 'активация_кэшбэка_' + cat\n",
    "    df_cat = clean_cat(turnover_cat_name, active_cat_name)\n",
    "    with_active_cashback = df_cat[df_cat[active_cat_name ] == 1][turnover_cat_name]\n",
    "    with_inactive_cashback = df_cat[df_cat[active_cat_name] != 1][turnover_cat_name]\n",
    "    print(f'{cat.ljust(14, \" \")}\\t{round(om(with_active_cashback), 5)}\\t{round(om(with_inactive_cashback), 5)}')"
   ]
  },
  {
   "cell_type": "code",
   "execution_count": null,
   "id": "01636317",
   "metadata": {},
   "outputs": [],
   "source": [
    "# Проверка гипотезы на одной категории(аптеки)\n",
    "df_pharmacy = clean_cat('оборот_аптеки', 'активация_кэшбэка_аптеки')\n",
    "pharmacy_active = df_pharmacy[df_pharmacy['активация_кэшбэка_аптеки'] == 1]['оборот_аптеки']\n",
    "pharmacy_inactive = df_pharmacy[df_pharmacy['активация_кэшбэка_аптеки'] != 1]['оборот_аптеки']\n",
    "stats.ttest_ind(pharmacy_inactive.to_list(), \n",
    "                pharmacy_active.to_list(), \n",
    "                alternative='less',\n",
    "                equal_var = False\n",
    "               )"
   ]
  },
  {
   "cell_type": "code",
   "execution_count": null,
   "id": "69c30163",
   "metadata": {
    "scrolled": true
   },
   "outputs": [],
   "source": [
    "data_new = []\n",
    "for cat in turnover:\n",
    "    cat_data = data[data[cat].isna() == False][cat]\n",
    "    cat_sqrt = cat_data**(1/2)\n",
    "    \n",
    "    name = cat.replace('_', ' ')\n",
    "    name_cat = \" \".join(cat.split(\"_\")[1:])\n",
    "    name = name[0].upper() + name[1:]\n",
    "    \n",
    "    fig = px.histogram(cat_data, width=800, height=400)\n",
    "    fig.update_layout(\n",
    "        xaxis_title=\"Оборот\",\n",
    "        yaxis_title=\"Количество\",\n",
    "        title_text = name + ' до обработки',\n",
    "        title_font_size=20,\n",
    "        title_x=0.5,\n",
    "        showlegend=False,\n",
    "    )\n",
    "    fig.show()\n",
    "    \n",
    "    fig = px.histogram(cat_sqrt, width=800, height=400) \n",
    "    fig.update_layout(\n",
    "        xaxis_title=\"Оборот\",\n",
    "        yaxis_title=\"Количество\",\n",
    "        title_text = name + ' после нормализации',\n",
    "        title_font_size=20,\n",
    "        title_x=0.5,\n",
    "        showlegend=False,\n",
    "    )\n",
    "    fig.show()\n",
    "    \n",
    "    сlean, l = clean_data(cat_sqrt.values)\n",
    "    \n",
    "    fig = px.histogram(сlean, width=800, height=400)\n",
    "\n",
    "    fig.update_layout(\n",
    "        xaxis_title=\"Оборот\",\n",
    "        yaxis_title=\"Количество\",\n",
    "        title_text = name + ' после отчистки выбросов',\n",
    "        title_font_size=20,\n",
    "        title_x=0.5,\n",
    "        showlegend=False,\n",
    "    )\n",
    "    fig.show()\n",
    "    \n",
    "    data_new.append(сlean)\n",
    "    fig = px.box(x=cat_data, title=f'Изначальные данные категории \"{name_cat}\"', width=800, height=400)\n",
    "\n",
    "    fig.update_layout(\n",
    "        title_font_size=20,\n",
    "        title_x=0.5,\n",
    "        showlegend=False,\n",
    "    )\n",
    "#     fig.update_xaxes(showgrid=False)\n",
    "#     fig.update_yaxes(showgrid=False)\n",
    "    fig.show()\n",
    "    \n",
    "    fig = px.box(x=сlean, title=f'После обработки (категория {name_cat})', width=800, height=400)\n",
    "    \n",
    "    fig.update_layout(\n",
    "        title_font_size=20,\n",
    "        title_x=0.5,\n",
    "        showlegend=False,\n",
    "    )\n",
    "#     fig.update_xaxes(showgrid=False)\n",
    "#     fig.update_yaxes(showgrid=False)\n",
    "    fig.show()\n",
    "    print(f'Процент данных, которые остались после отчистки по категории \"{name_cat}\": {l}')"
   ]
  },
  {
   "cell_type": "markdown",
   "id": "c3892183",
   "metadata": {},
   "source": [
    "# Среднее квадратическое отклонение трат"
   ]
  },
  {
   "cell_type": "code",
   "execution_count": null,
   "id": "49c796ad",
   "metadata": {},
   "outputs": [],
   "source": [
    "df = data.groupby('месяц_покупок', as_index=False).aggregate({i: 'sum' for i in turnover})"
   ]
  },
  {
   "cell_type": "code",
   "execution_count": null,
   "id": "9c4abc96",
   "metadata": {
    "scrolled": true
   },
   "outputs": [],
   "source": [
    "df"
   ]
  },
  {
   "cell_type": "code",
   "execution_count": null,
   "id": "19ea9055",
   "metadata": {
    "scrolled": true
   },
   "outputs": [],
   "source": [
    "for i in turnover:\n",
    "    fig = px.bar(x = df['месяц_покупок'], y = df[i], title=i, width=800, height=400)\n",
    "    fig.show()"
   ]
  },
  {
   "cell_type": "code",
   "execution_count": null,
   "id": "de1731a6",
   "metadata": {},
   "outputs": [],
   "source": [
    "data['сумма оборота'] = sum([data[data[i].isna() == False][i] for i in turnover])\n",
    "df1 = data.groupby('ключ_клиента', as_index=False)['сумма оборота'].agg(lambda x: (((x-x.mean())**2).sum()/len(x))**0.5)"
   ]
  },
  {
   "cell_type": "code",
   "execution_count": null,
   "id": "83dcd16f",
   "metadata": {},
   "outputs": [],
   "source": [
    "data"
   ]
  },
  {
   "cell_type": "code",
   "execution_count": null,
   "id": "bd351ef2",
   "metadata": {},
   "outputs": [],
   "source": [
    "df1 = df1.rename(columns= {'сумма оборота': 'RMSE оборота'})"
   ]
  },
  {
   "cell_type": "code",
   "execution_count": null,
   "id": "60fbb433",
   "metadata": {},
   "outputs": [],
   "source": [
    "df1['фааф'] = round(df1['RMSE оборота']/((data['сумма оборота']+1e-9)/6), 6)"
   ]
  },
  {
   "cell_type": "code",
   "execution_count": null,
   "id": "2751a86e",
   "metadata": {},
   "outputs": [],
   "source": [
    "df1 = df1.sort_values('фааф', ascending=True)"
   ]
  },
  {
   "cell_type": "code",
   "execution_count": null,
   "id": "fac165a9",
   "metadata": {},
   "outputs": [],
   "source": [
    "df1['фааф']"
   ]
  },
  {
   "cell_type": "code",
   "execution_count": null,
   "id": "c6a8de50",
   "metadata": {},
   "outputs": [],
   "source": [
    "sns.histplot(df1['фааф'], bins=200)"
   ]
  },
  {
   "cell_type": "code",
   "execution_count": null,
   "id": "35ff8143",
   "metadata": {},
   "outputs": [],
   "source": [
    "df1.to_excel(\"фааф.xlsx\")  "
   ]
  },
  {
   "cell_type": "markdown",
   "id": "18ccaf60",
   "metadata": {},
   "source": [
    "# Оборот в городах-миллионниках"
   ]
  },
  {
   "cell_type": "code",
   "execution_count": null,
   "id": "e683ab3c",
   "metadata": {},
   "outputs": [],
   "source": [
    "data_city_million = data[(data['город_проживания'] == 'Москва') | (data['город_проживания'] == 'Санкт-Петербург') | (data['город_проживания'] == 'Екатеринбург') | (data['город_проживания'] == 'Казань') | (data['город_проживания'] == 'Новосибирск')]"
   ]
  },
  {
   "cell_type": "code",
   "execution_count": null,
   "id": "afa25937",
   "metadata": {},
   "outputs": [],
   "source": [
    "actives = []\n",
    "for i in range(len(data_city_million)):\n",
    "    actives.append(data_city_million[cashback_active].iloc[i].to_list().count(1))"
   ]
  },
  {
   "cell_type": "code",
   "execution_count": null,
   "id": "af4ebc4a",
   "metadata": {},
   "outputs": [],
   "source": [
    "data_city_million[cashback_active]"
   ]
  },
  {
   "cell_type": "code",
   "execution_count": null,
   "id": "8bc05cfb",
   "metadata": {},
   "outputs": [],
   "source": [
    "turnover_amount = []\n",
    "for i in turnover:\n",
    "    turnover_amount.append(data_city_million[i].sum())"
   ]
  },
  {
   "cell_type": "code",
   "execution_count": null,
   "id": "8cc74b4c",
   "metadata": {},
   "outputs": [],
   "source": [
    "fig = plt.figure(figsize =(10, 10))\n",
    "plt.pie(turnover_amount, labels = categories)\n",
    "plt.show()"
   ]
  },
  {
   "cell_type": "code",
   "execution_count": null,
   "id": "e346254e",
   "metadata": {},
   "outputs": [],
   "source": [
    "turnover_in_cashback = []\n",
    "for i in range(len(turnover)):\n",
    "    turnover_in_cashback.append(data_city_million[data_city_million[cashback_active[i]] == 1][turnover[i]].sum())"
   ]
  },
  {
   "cell_type": "code",
   "execution_count": null,
   "id": "93ffc499",
   "metadata": {},
   "outputs": [],
   "source": [
    "fig = plt.figure(figsize =(10, 10))\n",
    "plt.pie(turnover_in_cashback, labels = categories)\n",
    "plt.show()"
   ]
  },
  {
   "cell_type": "code",
   "execution_count": null,
   "id": "ba96cad6",
   "metadata": {},
   "outputs": [],
   "source": [
    "cashback_amount = []\n",
    "for i in cashback:\n",
    "    cashback_amount.append(data_city_million[i].sum())"
   ]
  },
  {
   "cell_type": "code",
   "execution_count": null,
   "id": "ba156644",
   "metadata": {},
   "outputs": [],
   "source": [
    "df = []\n",
    "for i in range(len(categories)):\n",
    "    df.append([categories[i], cashback_amount[i], turnover_in_cashback[i], turnover_amount[i]])"
   ]
  },
  {
   "cell_type": "code",
   "execution_count": null,
   "id": "f33388ca",
   "metadata": {
    "scrolled": false
   },
   "outputs": [],
   "source": [
    "df = pd.DataFrame(df, columns=['Category', 'cashback amount', 'turnover in cashback', 'turnover']) \n",
    "df"
   ]
  },
  {
   "cell_type": "code",
   "execution_count": null,
   "id": "126a60e6",
   "metadata": {},
   "outputs": [],
   "source": [
    "df.plot(x = 'Category',\n",
    "        kind = 'barh',\n",
    "        stacked = True,\n",
    "        mark_right = True,\n",
    "        figsize=(15,10)) "
   ]
  }
 ],
 "metadata": {
  "kernelspec": {
   "display_name": "Python 3 (ipykernel)",
   "language": "python",
   "name": "python3"
  },
  "language_info": {
   "codemirror_mode": {
    "name": "ipython",
    "version": 3
   },
   "file_extension": ".py",
   "mimetype": "text/x-python",
   "name": "python",
   "nbconvert_exporter": "python",
   "pygments_lexer": "ipython3",
   "version": "3.10.7"
  }
 },
 "nbformat": 4,
 "nbformat_minor": 5
}
